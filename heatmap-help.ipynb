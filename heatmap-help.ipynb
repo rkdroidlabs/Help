import pandas as pd
import seaborn as sns
import matplotlib.pyplot as plt
import matplotlib.cm as cm

# Load the data from the CSV file
data = pd.read_csv("Data set- NaN only.csv")  # Replace "your_file_name.csv" with the actual file name

# Step 1: Replace "NA" with pandas' NA representation
data = data.replace('NaN', pd.NA)

# Step 2: Set the pig IDs as the index and remove any empty rows or columns
data = data.set_index(data.columns[0])
data = data.dropna(axis=0, how='all')
data = data.dropna(axis=1, how='all')

# Generate the heatmap
plt.figure(figsize=(12, 8))  # Adjust the figure size as needed

# Define the colormap for valid data points (YlGnBu) and the color for NaN values (grey)
cmap_valid = cm.OrRd  # You can choose a different colormap for valid data points
cmap_valid.set_bad(color='lightgrey')  # Set NaN values to be displayed in grey

# Plot the heatmap using Seaborn with the specified colormaps
sns.heatmap(data, cmap=cmap_valid, annot=True, cbar_kws={'label': 'Score scale (in numbers)'},
            annot_kws={'size': 8})  # Adjust the 'size' value as needed for font size

# Add labels and title
plt.xlabel("Days After Virus Challenge")
plt.ylabel("Animal IDs")
plt.title("Viraemia in Whole blood Post challenge")

# Display the heatmap
plt.show()
